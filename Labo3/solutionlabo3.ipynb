{
 "cells": [
  {
   "cell_type": "markdown",
   "metadata": {},
   "source": [
    "## package management (debian)"
   ]
  },
  {
   "cell_type": "code",
   "execution_count": null,
   "metadata": {
    "vscode": {
     "languageId": "shellscript"
    }
   },
   "outputs": [],
   "source": [
    "#1\n",
    "    #packages instaleren via gui of sudo apt intstall\n",
    "#2\n",
    "    #sudo apt install sl\n",
    "#3\n",
    "\n",
    "#4\n",
    "#5\n",
    "#6"
   ]
  }
 ],
 "metadata": {
  "language_info": {
   "name": "python"
  },
  "orig_nbformat": 4
 },
 "nbformat": 4,
 "nbformat_minor": 2
}
