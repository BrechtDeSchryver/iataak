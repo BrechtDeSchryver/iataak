{
 "cells": [
  {
   "cell_type": "markdown",
   "metadata": {},
   "source": [
    "## package management (debian)"
   ]
  },
  {
   "cell_type": "code",
   "execution_count": null,
   "metadata": {
    "vscode": {
     "languageId": "shellscript"
    }
   },
   "outputs": [],
   "source": [
    "#1\n",
    "    #packages instaleren via gui of sudo apt intstall\n",
    "#2\n",
    "    #sudo apt install sl/\n",
    "\n",
    "    wget https://packages.ubuntu.com/focal/amd64/sl/download\n",
    "    sudo dpkg -i sl_5.02-1_amd64.deb\n",
    "#3\n",
    "    #sudo apt install cavepacker\n",
    "\n",
    "    wget https://packages.ubuntu.com/focal/amd64/cavepacker/download\n",
    "    sudo dpkg -i cavepacker_1.0.0-1_amd64.deb\n",
    "    #heb geintstalleerd via apt install\n",
    "    dpkg -s cavepacker\n",
    "    #geeft de info van de package\n",
    "#4\n",
    "    #download link van de package geeft een 404 error kan niet verder gaan\n",
    "#5\n",
    "    sudo apt upgrade\n",
    "    sudo apt list\n",
    "#6\n",
    "    sudo apt install firefox"
   ]
  },
  {
   "attachments": {},
   "cell_type": "markdown",
   "metadata": {},
   "source": [
    "## curl "
   ]
  },
  {
   "cell_type": "code",
   "execution_count": null,
   "metadata": {
    "vscode": {
     "languageId": "shellscript"
    }
   },
   "outputs": [],
   "source": [
    "#1\n",
    "    curl icanhazip.com\n",
    "#2\n",
    "    #2.1\n",
    "    curl https://hmpg.net\n",
    "    #de html5 code van de website\n",
    "    #2.2\n",
    "    curl -o ~/site.txt https://hmpg.net\n",
    "    #2.3\n",
    "    #Nee de image laat niet in\n",
    "    #2.4\n",
    "    curl -o ~/site.txt https://hmpg.net\n",
    "    #wist niet wat er bedoeld werd met de vraag maar na wat opzoekwerk.\n",
    "    #kwam ik erachter dat ze alletwee overschrijven tenzij je opties meegeeft.\n",
    "#3\n",
    "    #3.1\n",
    "    curl hmpg.net\n",
    "    #ik krijg een andere pagina te zien.\n",
    "    #3.2\n",
    "    curl -I hmpg.net\n",
    "    #304 \n",
    "    #status van https is 200\n",
    "    #3.3\n",
    "    curl -L hmpg.net\n",
    "#4\n",
    "    #4.1\n",
    "     # ga naar http://ftp.belnet.be/debian/\n",
    "    #4.2\n",
    "    curl -o ~/test ftp:/ftp.belnet.be/debian/README  \n",
    "    #4.3\n",
    "    curl -o ~/test -u anonymous ftp://ftp.belnet.be/debian/README > file\n",
    "#5\n",
    "    #5.1\n",
    "    curl -L https://en.wikipedia.org/api/rest_v1/page/random/summary\n",
    "    #je krijgt een json terug\n",
    "    #5.2\n",
    "    curl -L https://en.wikipedia.org/api/rest_v1/page/random/summary | jq\n",
    "    #5.3\n",
    "    curl -Ls https://en.wikipedia.org/api/rest_v1/page/random/summary | jq\n",
    "#6\n",
    "curl -s https://data.stad.gent/api/records/1.0/search/?dataset=real-time-bezettingen-fietsenstallingen-gent&q=&facet=facilityname | jq > ~/data/fietsenstallingen-$(date -u +'%Y%m%d-%H%M%S').json\n",
    "#7\n",
    "    #7.1\n",
    "        curl https://httpbin.org\n",
    "    #7.2\n",
    "        curl https://httpbin.org/anything\n",
    "    #7.3\n",
    "        curl -X POST https://httpbin.org/anything\n",
    "    #7.4\n",
    "        curl https://httpbin.org/anything?value=panda\n",
    "    #7.5\n",
    "        curl https://www.google.com/robots.txt\n",
    "    #7.6\n",
    "        curl -H \"User-Agent: elephant\" https://httpbin.org/anything\n",
    "    #7.7\n",
    "        curl -X DELETE https://httpbin.org/anything\n",
    "    #7.8\n",
    "        curl -v https://httpbin.org/anything\n",
    "    #7.9\n",
    "        curl -X POST -d '{\"value\": \"panda\"}' https://httpbin.org/anything\n",
    "    #7.10\n",
    "        curl -X POST -H \"Content-Type: application/json\" -d '{\"value\": \"panda\"}' https://httpbin.org/anything\n",
    "    #7.11\n",
    "        curl -H \"Accept-Encoding: gzip\" https://httpbin.org/anything\n",
    "    #7.12\n",
    "        curl -X POST -H \"Content-Type: application/json\" -d json.json https://httpbin.org/anything\n",
    "    #7.13\n",
    "        curl -H \"Accept: image/png\" -o image.png https://httpbin.org/image\n",
    "    #7.14\n",
    "        curl -X PUT https://httpbin.org/anything\n",
    "    #7.15\n",
    "        curl https://httpbin.org/image/jpeg -o image.jpeg\n",
    "    #7.16\n",
    "        curl -v https://www.twitter.com\n",
    "    #7.17\n",
    "        curl -H \"panda: elephant\" https://httpbin.org/anything\n",
    "    #7.18\n",
    "        curl -v https://httpbin.org/status/404\n",
    "        curl -v https://httpbin.org/status/200\n",
    "    #7.19\n",
    "        curl -u username:password https://httpbin.org/anything\n",
    "    #7.20\n",
    "        curl -H \"Accept-Language: es-ES\" https://twitter.com\n",
    "    #7.21\n",
    "        curl -X POST https://httpbin.org/anything \\\n",
    "        -d amount=1000 \\\n",
    "        -d currency=usd \\\n",
    "        -d description=\"Example charge\" \\\n",
    "        -d source=tok_visa\n"
   ]
  }
 ],
 "metadata": {
  "kernelspec": {
   "display_name": "Python 3.10.8 64-bit (microsoft store)",
   "language": "python",
   "name": "python3"
  },
  "language_info": {
   "name": "python",
   "version": "3.10.9 (tags/v3.10.9:1dd9be6, Dec  6 2022, 20:01:21) [MSC v.1934 64 bit (AMD64)]"
  },
  "orig_nbformat": 4,
  "vscode": {
   "interpreter": {
    "hash": "570bd0328ffd5fb6d3c5c0c45425a27bbb2e26705749a06786414ed5d8f9c4a9"
   }
  }
 },
 "nbformat": 4,
 "nbformat_minor": 2
}
