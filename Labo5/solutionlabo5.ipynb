{
 "cells": [
  {
   "attachments": {},
   "cell_type": "markdown",
   "metadata": {},
   "source": [
    "## Globbing "
   ]
  },
  {
   "cell_type": "code",
   "execution_count": null,
   "metadata": {},
   "outputs": [],
   "source": [
    "#1 \n",
    "    ls file*\n",
    "#2\n",
    "    ls file?\n",
    "#3\n",
    "    ls file[a-zA-Z]\n",
    "#4\n",
    "    ls file[0-9]\n",
    "#5\n",
    "    ls file1[2-6]\n",
    "#6\n",
    "    ls file[^1]*"
   ]
  },
  {
   "attachments": {},
   "cell_type": "markdown",
   "metadata": {},
   "source": [
    "## AWK"
   ]
  },
  {
   "cell_type": "code",
   "execution_count": null,
   "metadata": {},
   "outputs": [],
   "source": [
    "#1\n",
    "    awk -F: '/bash/ {print $1}' /etc/passwd\n",
    "#2\n",
    "    curl https://raw.githubusercontent.com/HoGentTIN/dsai-en-labs/main/data/rlanders.csv -o rlanders.csv\n",
    "#3\n",
    "    awk 'NR>1' rlanders.csv\n",
    "#4\n",
    "    awk -F, 'NR>1 {print $5}' rlanders.csv | sort -n | awk 'NR==1 {min=$0}; NR==END {max=$0} END {print \"Minimum: \" min \"\\nMaximum: \" max}'\n",
    "#5\n",
    "    awk -F, 'NR>1 {sum+=$6} END {print \"Total sum: \" sum}' rlanders.csv\n",
    "#6\n",
    "    awk -F, 'NR>1 && $2==\"Female\" {sum+=$6} END {print \"Total sum for females: \" sum}' rlanders.csv\n",
    "#7\n",
    "    awk -F, 'NR>1 {counts[$7]++} END {for (val in counts) {print val \"\\t\" counts[val]}}' rlanders.csv | sort -n  \n",
    "#8\n",
    "    awk -F, 'NR>1 {sum+=$3; count++} END {print \"Average: \" sum/count}' rlanders.csv\n",
    "#9\n",
    "    awk -F, 'NR>1 {sum[$2]+=$3; count[$2]++} END {for (gender in sum) {print gender \": \" sum[gender]/count[gender]}}' rlanders.csv\n",
    "#10\n",
    "    #bestand staat in de map scripts "
   ]
  },
  {
   "attachments": {},
   "cell_type": "markdown",
   "metadata": {},
   "source": [
    "## JQ"
   ]
  },
  {
   "cell_type": "code",
   "execution_count": null,
   "metadata": {},
   "outputs": [],
   "source": [
    "#1\n",
    "    curl https://data.stad.gent/api/records/1.0/search/?dataset=bezetting-parkeergarages-real-time&q=&facet=name&facet=lastupdate&facet=description&facet=categorie\n",
    "#2\n",
    "    jq . parkings.json\n",
    "#3\n",
    "    jq -r '.[] | .name' parkings.json\n",
    "    #3.2\n",
    "    jq -c '.[] | .name' parkings.json\n",
    "#4\n",
    "jq '.[] | {name: .name, lastChange: .lastChange, availableCapacity: .availableCapacity, totalCapacity: .totalCapacity}' parkings.json\n",
    "#5\n",
    "jq -r '.[] | [.name, .lastChange, .availableCapacity, .totalCapacity] | @csv' parkings.json"
   ]
  }
 ],
 "metadata": {
  "kernelspec": {
   "display_name": "Python 3.10.8 64-bit (microsoft store)",
   "language": "python",
   "name": "python3"
  },
  "language_info": {
   "name": "python",
   "version": "3.10.9 (tags/v3.10.9:1dd9be6, Dec  6 2022, 20:01:21) [MSC v.1934 64 bit (AMD64)]"
  },
  "orig_nbformat": 4,
  "vscode": {
   "interpreter": {
    "hash": "570bd0328ffd5fb6d3c5c0c45425a27bbb2e26705749a06786414ed5d8f9c4a9"
   }
  }
 },
 "nbformat": 4,
 "nbformat_minor": 2
}
