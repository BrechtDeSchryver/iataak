{
 "cells": [
  {
   "cell_type": "markdown",
   "metadata": {},
   "source": [
    "## Gebruikers (en groepen) aanmaken"
   ]
  },
  {
   "cell_type": "code",
   "execution_count": 1,
   "metadata": {
    "vscode": {
     "languageId": "shellscript"
    }
   },
   "outputs": [
    {
     "ename": "NameError",
     "evalue": "name 'pwd' is not defined",
     "output_type": "error",
     "traceback": [
      "\u001b[1;31m---------------------------------------------------------------------------\u001b[0m",
      "\u001b[1;31mNameError\u001b[0m                                 Traceback (most recent call last)",
      "\u001b[1;32mc:\\Users\\brech\\OneDrive\\Desktop\\bash scripts opdracht\\iataak\\Labo 1\\solutionlabo1.ipynb Cell 2\u001b[0m in \u001b[0;36m<cell line: 5>\u001b[1;34m()\u001b[0m\n\u001b[0;32m      <a href='vscode-notebook-cell:/c%3A/Users/brech/OneDrive/Desktop/bash%20scripts%20opdracht/iataak/Labo%201/solutionlabo1.ipynb#W1sZmlsZQ%3D%3D?line=0'>1</a>\u001b[0m \u001b[39m#!/bin/bash\u001b[39;00m\n\u001b[0;32m      <a href='vscode-notebook-cell:/c%3A/Users/brech/OneDrive/Desktop/bash%20scripts%20opdracht/iataak/Labo%201/solutionlabo1.ipynb#W1sZmlsZQ%3D%3D?line=1'>2</a>\u001b[0m \u001b[39m# hieronder vind je de cli commando's om de opdrachten uit te voeren en in commentaar de output\u001b[39;00m\n\u001b[0;32m      <a href='vscode-notebook-cell:/c%3A/Users/brech/OneDrive/Desktop/bash%20scripts%20opdracht/iataak/Labo%201/solutionlabo1.ipynb#W1sZmlsZQ%3D%3D?line=2'>3</a>\u001b[0m \u001b[39m# 1\u001b[39;00m\n\u001b[0;32m      <a href='vscode-notebook-cell:/c%3A/Users/brech/OneDrive/Desktop/bash%20scripts%20opdracht/iataak/Labo%201/solutionlabo1.ipynb#W1sZmlsZQ%3D%3D?line=3'>4</a>\u001b[0m \u001b[39m# 1.1\u001b[39;00m\n\u001b[1;32m----> <a href='vscode-notebook-cell:/c%3A/Users/brech/OneDrive/Desktop/bash%20scripts%20opdracht/iataak/Labo%201/solutionlabo1.ipynb#W1sZmlsZQ%3D%3D?line=4'>5</a>\u001b[0m pwd\n",
      "\u001b[1;31mNameError\u001b[0m: name 'pwd' is not defined"
     ]
    }
   ],
   "source": [
    "#!/bin/bash\n",
    "# hieronder vind je de cli commando's om de opdrachten uit te voeren en in commentaar de output\n",
    "# 1\n",
    "    # 1.1\n",
    "        pwd\n",
    "        # output: /home/osboxes\n",
    "    # 1.2\n",
    "        id -u osboxes\n",
    "        # output: 1000\n",
    "        id -g osboxes\n",
    "        # output: 1000\n",
    "# 2\n",
    "    sudo adduser alice\n",
    "    # output: Adding user `alice' ...\n",
    "    # psswd: alice\n",
    "# 3\n",
    "    # 3.1\n",
    "        # /etc/passwd\n",
    "    # 3.2\n",
    "        # /etc/group\n",
    "    # 3.3\n",
    "        # /etc/shadow\n",
    "# 4\n",
    "    # 4.1\n",
    "        sudo groupadd sporten\n",
    "    # 4.2\n",
    "        #/etc/group\n",
    "    # 4.3\n",
    "        #1002 zwemmen en 1003 judo\n",
    "        echo zwemmen judo | sudo xargs -n 1 groupadd -r\n",
    "        #group id was 998 en 997 mijn id waren fout\n",
    "    # 4.4\n",
    "        useradd alice -G sporten,zwemmen\n",
    "    # 4.5\n",
    "        su - alice\n",
    "    # 4.6\n",
    "        sudo usermod -g sporten alice\n",
    "    # 4.7\n",
    "        exit\n",
    "# 5\n",
    "    # 5.1\n",
    "        sudo useradd bob -g sporten -G judo -p bob\n",
    "        sudo useradd daniel -g sporten -G judo -p daniel\n",
    "        sudo useradd carol -g sporten -G zwemmen -p carol\n",
    "        sudo useradd eva -g sporten -G zwemmen -p eva\n",
    "    # 5.2\n",
    "        sudo groupdel alice\n",
    "    # 5.3\n",
    "        sudo usermod -L daniel\n",
    "    # 5.4\n",
    "        sudo passwd -S daniel\n",
    "        # output: daniel L 11/30/2022 0 99999 7 -1\n",
    "        #je ziet een L staan voor locked\n",
    "    # 5.5\n",
    "        sudo passwd -u daniel\n",
    "        #output=: passwd: password expiry information changed.\n",
    "    # 5.6\n",
    "        sudo userdel eva -r\n",
    "    # 5.7\n",
    "        su - carol\n",
    "        # 5.7.1\n",
    "            touch test\n",
    "        # 5.7.2\n",
    "            cd /home/alice\n",
    "        # 5.7.3\n",
    "            #ja\n",
    "        # 5.7.4\n",
    "            cd /home/alice && touch test\n",
    "            # nee want carol heeft geen rechten om in alice's home directory te schrijven\n",
    "# 6\n",
    "    # 6.1\n",
    "        root:!:19007:0:99999:7:::\n",
    "        # root heeft geen wachtwoord\n",
    "    # 6.2\n",
    "        #6.2.1\n",
    "            pwd\n",
    "            # output: /root\n",
    "        #6.2.2\n",
    "            #0 en 0\n",
    "    # 6.3\n",
    "        passwd\n",
    "        # ww: root\n",
    "    # 6.4\n",
    "        #ja je ziet nu dat er een wachtwoord is\n",
    "    # 6.5\n",
    "        #nee er veranderd niks \n",
    "# 7\n",
    "    # 7.1\n",
    "        useradd -m brecht\n",
    "    #7.2\n",
    "        #add bash ipv sh aan etc/passwd bij brecht\n",
    "    # 7.3\n",
    "        sudo passwd brecht\n",
    "    # 7.4\n",
    "        sudo usermod -aG sudo brecht"
   ]
  },
  {
   "cell_type": "markdown",
   "metadata": {},
   "source": [
    "## Eigenaars en groepseigenaars veranderen."
   ]
  },
  {
   "cell_type": "code",
   "execution_count": null,
   "metadata": {
    "vscode": {
     "languageId": "shellscript"
    }
   },
   "outputs": [],
   "source": [
    "#!/bin/bash\n",
    "\n",
    "#1\n",
    "    sudo -i\n",
    "    cd /srv\n",
    "    mkdir groep\n",
    "    cd groep\n",
    "    mkdir -p {inkoop ,verkoop}\n",
    "    echo verkoop inkoop | sudo xargs -n 1 groupadd -r\n",
    "    useradd magriet -g verkoop\n",
    "    useradd roza -g inkoop\n",
    "    chgrp verkoop /srv/groep/verkoop\n",
    "    chgrp inkoop /srv/groep/inkoopls \n",
    "    ls -l \n",
    "    #output:drwxr-xr-x 2 root inkoop  4096 Nov 30 19:30 inkoop\n",
    "    #       drwxr-xr-x 2 root verkoop 4096 Nov 30 19:30 verkoop\n",
    " \n",
    "#2\n",
    "    chmod 770 /srv/groep/verkoop\n",
    "    chmod 770 /srv/groep/inkoop\n",
    "#3\n",
    "    usermod alice -aG verkoop,inkoopexc\n",
    "#4\n",
    "    su - alice\n",
    "    cd /srv/groep/verkoop\n",
    "    touch bestand1 \n",
    "#5\n",
    "    ls -l \n",
    "    #eigenaar alice groepseigenaar sporten\n",
    "#6\n",
    "    chmod g+s verkoop\n",
    "#7\n",
    "    chmod g+s inkoop\n",
    "#8\n",
    "    su - alice\n",
    "    cd /srv/groep/verkoop\n",
    "    touch bestand2\n",
    "#9\n",
    "    #alice is nu de eigenaar en verkoop de groepseigenaar van bestand2\n",
    "#10\n",
    "    su - magriet\n",
    "    cd /srv/groep/verkoop\n",
    "    touch bestand3\n",
    "#11\n",
    "    su - alice\n",
    "    cd /srv/groep/verkoop\n",
    "    rm bestand3\n",
    "    #het bestand word verwijderd \n",
    "#12\n",
    "    #als root\n",
    "    chmod +t /srv/groep/verkoop\n",
    "    chmod +t /srv/groep/inkoop"
   ]
  },
  {
   "cell_type": "markdown",
   "metadata": {},
   "source": [
    "## Reflectievragen"
   ]
  },
  {
   "cell_type": "code",
   "execution_count": null,
   "metadata": {
    "vscode": {
     "languageId": "shellscript"
    }
   },
   "outputs": [],
   "source": [
    "#1\n",
    "# su - vraagt voor de root password\n",
    "# sudo su - vraagt voor het wachtwoord van de sudo user\n",
    "#2 \n",
    "-sudo usermod -L daniel\n",
    "-\n",
    "-\n"
   ]
  }
 ],
 "metadata": {
  "kernelspec": {
   "display_name": "Python 3.10.8 64-bit (microsoft store)",
   "language": "python",
   "name": "python3"
  },
  "language_info": {
   "codemirror_mode": {
    "name": "ipython",
    "version": 3
   },
   "file_extension": ".py",
   "mimetype": "text/x-python",
   "name": "python",
   "nbconvert_exporter": "python",
   "pygments_lexer": "ipython3",
   "version": "3.10.8"
  },
  "orig_nbformat": 4,
  "vscode": {
   "interpreter": {
    "hash": "570bd0328ffd5fb6d3c5c0c45425a27bbb2e26705749a06786414ed5d8f9c4a9"
   }
  }
 },
 "nbformat": 4,
 "nbformat_minor": 2
}
