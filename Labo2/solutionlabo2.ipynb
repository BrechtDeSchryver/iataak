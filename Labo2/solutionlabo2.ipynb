{
 "cells": [
  {
   "cell_type": "markdown",
   "metadata": {},
   "source": [
    "## VARIABELEN "
   ]
  },
  {
   "cell_type": "code",
   "execution_count": null,
   "metadata": {},
   "outputs": [],
   "source": [
    "#PATH=/usr/local/sbin:/usr/local/bin:/usr/sbin:/usr/bin:/sbin:/bin:/snap/bin(een lijst variabelen die de shell gebruikt om executables te vinden)\n",
    "#HISTSIZE=1000(aantal cached commando's dat in de history wordt opgeslagen)\n",
    "#UID=1000(UID van de user)\n",
    "#HOME=/home/osboxes(home directory van de user)\n",
    "#HOSTNAME=osboxes(hostnaam van de computer)\n",
    "#LANG=en_US.UTF-8(language van de computer)\n",
    "#USER=osboxes(username van de user)\n",
    "#OSTYPE=linux-gnu(type van het OS)\n",
    "#PWD=/home(working directory)"
   ]
  },
  {
   "cell_type": "markdown",
   "metadata": {},
   "source": [
    "## Variabelen in scripts "
   ]
  },
  {
   "cell_type": "code",
   "execution_count": null,
   "metadata": {
    "vscode": {
     "languageId": "shellscript"
    }
   },
   "outputs": [],
   "source": [
    "#1\n",
    "    #script te vinden onder labo2 hello.sh\n",
    "    #environment variables  \n",
    "#2\n",
    "    #script te vinden onder labo2 hey.sh\n",
    "#3\n",
    "    #dit geeft een error. omdat de var niet gedefined is\n",
    "#4\n",
    "    #in CLI \n",
    "    #export person='person\n",
    "    #heb hier meteen een env var van gemaakt dus werkte meteen\n",
    "#5\n",
    "    #er een env var van maken\n",
    "#6\n",
    "    unset person\n",
    "    #nee nu werkt het script niet meer\n",
    "    person='person' ./hey.sh\n",
    "    #ja het script werkt en je kan vervolgens de var niet meer opvragen.\n"
   ]
  },
  {
   "cell_type": "markdown",
   "metadata": {},
   "source": [
    "## I/O Redirection en filters"
   ]
  },
  {
   "cell_type": "code",
   "execution_count": null,
   "metadata": {
    "vscode": {
     "languageId": "shellscript"
    }
   },
   "outputs": [],
   "source": [
    "#1\n",
    "    apt list --installed\n",
    "#2\n",
    "    apt list --installed > packages.txt\n",
    "#3\n",
    "    apt list --installed > packages.txt 2> /dev/null    \n",
    "#4\n",
    "    cat packages.txt | head -10\n",
    "#5\n",
    "    cat packages.txt | wc -l\n",
    "#6\n",
    "    cat packages.txt | cut -d\" \" -f3 | sort | uniq -c\n",
    "#7\n",
    "    cat packages.txt | grep python | wc -l\n",
    "#8\n",
    "    apt list --all-versions | grep python\n",
    "    #vond de manier om python enkel te zoeken niet. \n",
    "#9\n",
    "    #aangezien ik dit probleem met whitespace niet heb heb ik ook geen commando maar normaal is het\n",
    "    tr -d \" \\t\\n\\r\"\n",
    "    #eerste lijn negeren\n",
    "    tail -n +2\n",
    "#10\n",
    "    cat python-packages.txt | wc -l\n",
    "    #4967\n",
    "    cat python-packages.txt | grep installed | wc -l\n",
    "    #112\n",
    "#11\n",
    "    cat python-packages.txt | cut -d \" \" -f1 | uniq -u | wc -l\n",
    "    #4685"
   ]
  },
  {
   "cell_type": "markdown",
   "metadata": {},
   "source": [
    "## Filters in scripts "
   ]
  },
  {
   "cell_type": "code",
   "execution_count": null,
   "metadata": {
    "vscode": {
     "languageId": "shellscript"
    }
   },
   "outputs": [],
   "source": [
    "#1\n",
    "    #script te vinden onder labo2 list-users.sh\n",
    "#2\n",
    "    #script te vinden onder labo2 list-system-users.sh\n",
    "#3\n",
    "    #script te vinden onder labo2 topcmd.sh"
   ]
  }
 ],
 "metadata": {
  "kernelspec": {
   "display_name": "Python 3.10.8 64-bit (microsoft store)",
   "language": "python",
   "name": "python3"
  },
  "language_info": {
   "name": "python",
   "version": "3.10.9 (tags/v3.10.9:1dd9be6, Dec  6 2022, 20:01:21) [MSC v.1934 64 bit (AMD64)]"
  },
  "orig_nbformat": 4,
  "vscode": {
   "interpreter": {
    "hash": "570bd0328ffd5fb6d3c5c0c45425a27bbb2e26705749a06786414ed5d8f9c4a9"
   }
  }
 },
 "nbformat": 4,
 "nbformat_minor": 2
}
