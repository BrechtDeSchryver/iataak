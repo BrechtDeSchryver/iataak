{
 "cells": [
  {
   "cell_type": "markdown",
   "metadata": {},
   "source": [
    "## scripting \"103\" - opgaves "
   ]
  },
  {
   "cell_type": "code",
   "execution_count": null,
   "metadata": {},
   "outputs": [],
   "source": [
    "#1 \n",
    "    #script te vinden in de map /scripts/srm.sh"
   ]
  }
 ],
 "metadata": {
  "kernelspec": {
   "display_name": "Python 3.10.8 64-bit (microsoft store)",
   "language": "python",
   "name": "python3"
  },
  "language_info": {
   "name": "python",
   "version": "3.10.8"
  },
  "orig_nbformat": 4,
  "vscode": {
   "interpreter": {
    "hash": "570bd0328ffd5fb6d3c5c0c45425a27bbb2e26705749a06786414ed5d8f9c4a9"
   }
  }
 },
 "nbformat": 4,
 "nbformat_minor": 2
}
