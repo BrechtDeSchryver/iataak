{
 "cells": [
  {
   "cell_type": "markdown",
   "metadata": {},
   "source": [
    "## Webserver opzetten"
   ]
  },
  {
   "cell_type": "markdown",
   "metadata": {},
   "source": [
    "### De Apache webserver instaleren"
   ]
  },
  {
   "cell_type": "code",
   "execution_count": null,
   "metadata": {},
   "outputs": [],
   "source": [
    "#1\n",
    "    sudo apt-get install apache2\n",
    "#2\n",
    "    sudo apt-get install php\n",
    "    cd /var/www/html\n",
    "    touch test.php\n",
    "    # add this to file \"<?php phpinfo(); ?>\"\n",
    "    # open http://localhost/test.php to test if php is working    "
   ]
  },
  {
   "cell_type": "markdown",
   "metadata": {},
   "source": [
    "### MariaDB(MySQL)"
   ]
  },
  {
   "cell_type": "code",
   "execution_count": null,
   "metadata": {},
   "outputs": [],
   "source": [
    "#1 \n",
    "    sudo apt-get install mariadb-server\n",
    "#2\n",
    "    #run gegeven script te vinden in de map scripts\n",
    "    sudo mysql \n",
    "    source /scripts/mysql_secure_installation.sql\n",
    "    #add php file\n",
    "    cd /var/www/html\n",
    "    touch todo.php\n",
    "    #add file /scripts/todo.php to file\n",
    "    #check if it works http://localhost/todo.php"
   ]
  },
  {
   "cell_type": "markdown",
   "metadata": {},
   "source": [
    "## Scripting oefening '102'"
   ]
  },
  {
   "cell_type": "markdown",
   "metadata": {},
   "source": [
    "## Positionele parameters "
   ]
  },
  {
   "cell_type": "code",
   "execution_count": null,
   "metadata": {},
   "outputs": [],
   "source": [
    "#1\n",
    "    #script te vinden in map /scripts/param.sh\n",
    "#2 \n",
    "    #script te vinden in map /scripts/all-params.sh\n",
    "#3\n",
    "    #script te vinden in map /scripts/sort-passwd.sh"
   ]
  },
  {
   "cell_type": "markdown",
   "metadata": {},
   "source": [
    "## Netwerkinstellingen opvragen"
   ]
  },
  {
   "cell_type": "code",
   "execution_count": null,
   "metadata": {},
   "outputs": [],
   "source": [
    "#1\n",
    "    #script te vinden in map /scripts/ip-info.sh"
   ]
  }
 ],
 "metadata": {
  "kernelspec": {
   "display_name": "Python 3.10.8 64-bit (microsoft store)",
   "language": "python",
   "name": "python3"
  },
  "language_info": {
   "name": "python",
   "version": "3.10.8"
  },
  "orig_nbformat": 4,
  "vscode": {
   "interpreter": {
    "hash": "570bd0328ffd5fb6d3c5c0c45425a27bbb2e26705749a06786414ed5d8f9c4a9"
   }
  }
 },
 "nbformat": 4,
 "nbformat_minor": 2
}
